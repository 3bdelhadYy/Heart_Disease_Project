{
  "nbformat": 4,
  "nbformat_minor": 0,
  "metadata": {
    "colab": {
      "provenance": []
    },
    "kernelspec": {
      "name": "python3",
      "display_name": "Python 3"
    },
    "language_info": {
      "name": "python"
    }
  },
  "cells": [
    {
      "cell_type": "code",
      "execution_count": 1,
      "metadata": {
        "id": "8exc9qPkRVjD"
      },
      "outputs": [],
      "source": [
        "import pandas as pd\n",
        "import numpy as np\n",
        "from sklearn.model_selection import train_test_split, GridSearchCV, RandomizedSearchCV\n",
        "from sklearn.preprocessing import StandardScaler\n",
        "from sklearn.ensemble import RandomForestClassifier\n",
        "from sklearn.svm import SVC\n",
        "from sklearn.metrics import classification_report, roc_auc_score\n"
      ]
    },
    {
      "cell_type": "code",
      "source": [
        "# Load and clean\n",
        "url = \"https://archive.ics.uci.edu/ml/machine-learning-databases/heart-disease/processed.cleveland.data\"\n",
        "columns = [\n",
        "    'age', 'sex', 'cp', 'trestbps', 'chol', 'fbs',\n",
        "    'restecg', 'thalach', 'exang', 'oldpeak', 'slope',\n",
        "    'ca', 'thal', 'target'\n",
        "]\n",
        "df = pd.read_csv(url, names=columns)\n",
        "df.replace('?', np.nan, inplace=True)\n",
        "df = df.apply(pd.to_numeric, errors='coerce')\n",
        "df.dropna(inplace=True)\n",
        "df['target'] = df['target'].apply(lambda x: 1 if x > 0 else 0)\n",
        "\n",
        "# Feature selection (based on Step 3 output)\n",
        "selected_features = ['cp', 'thalach', 'exang', 'oldpeak', 'ca', 'thal']\n",
        "X = df[selected_features]\n",
        "y = df['target']\n",
        "\n",
        "# Scale\n",
        "X_scaled = StandardScaler().fit_transform(X)\n",
        "\n",
        "# Train/Test split\n",
        "X_train, X_test, y_train, y_test = train_test_split(\n",
        "    X_scaled, y, test_size=0.2, stratify=y, random_state=42\n",
        ")\n"
      ],
      "metadata": {
        "id": "2yPfQc5BRYjb"
      },
      "execution_count": 2,
      "outputs": []
    },
    {
      "cell_type": "code",
      "source": [
        "# Parameter grid\n",
        "rf_grid = {\n",
        "    'n_estimators': [50, 100, 200],\n",
        "    'max_depth': [None, 3, 5, 10],\n",
        "    'min_samples_split': [2, 5],\n",
        "    'min_samples_leaf': [1, 2],\n",
        "    'bootstrap': [True, False]\n",
        "}\n",
        "\n",
        "rf = RandomForestClassifier(random_state=42)\n",
        "grid_rf = GridSearchCV(rf, rf_grid, cv=5, scoring='f1', n_jobs=-1, verbose=1)\n",
        "grid_rf.fit(X_train, y_train)\n",
        "\n",
        "# Results\n",
        "print(\"Best Random Forest Params:\", grid_rf.best_params_)\n",
        "print(\"Random Forest F1 Score:\", grid_rf.score(X_test, y_test))\n"
      ],
      "metadata": {
        "colab": {
          "base_uri": "https://localhost:8080/"
        },
        "id": "gE8CeWr2RYdb",
        "outputId": "d8676439-f1b6-4e38-fbe1-31f309e4db31"
      },
      "execution_count": 3,
      "outputs": [
        {
          "output_type": "stream",
          "name": "stdout",
          "text": [
            "Fitting 5 folds for each of 96 candidates, totalling 480 fits\n",
            "Best Random Forest Params: {'bootstrap': True, 'max_depth': 10, 'min_samples_leaf': 2, 'min_samples_split': 2, 'n_estimators': 50}\n",
            "Random Forest F1 Score: 0.8148148148148148\n"
          ]
        }
      ]
    },
    {
      "cell_type": "code",
      "source": [
        "svm_params = {\n",
        "    'C': np.logspace(-3, 3, 10),\n",
        "    'gamma': ['scale', 'auto'],\n",
        "    'kernel': ['linear', 'rbf', 'poly'],\n",
        "}\n",
        "\n",
        "svm = SVC(probability=True, random_state=42)\n",
        "random_svm = RandomizedSearchCV(svm, svm_params, n_iter=10, cv=5, scoring='f1', n_jobs=-1, random_state=42, verbose=1)\n",
        "random_svm.fit(X_train, y_train)\n",
        "\n",
        "# Results\n",
        "print(\"Best SVM Params:\", random_svm.best_params_)\n",
        "print(\"SVM F1 Score:\", random_svm.score(X_test, y_test))\n"
      ],
      "metadata": {
        "colab": {
          "base_uri": "https://localhost:8080/"
        },
        "id": "pWtVxMCkRYZQ",
        "outputId": "3c6b8d7e-7cc6-4ed7-b5bd-d8ad1f805fb5"
      },
      "execution_count": 4,
      "outputs": [
        {
          "output_type": "stream",
          "name": "stdout",
          "text": [
            "Fitting 5 folds for each of 10 candidates, totalling 50 fits\n",
            "Best SVM Params: {'kernel': 'linear', 'gamma': 'scale', 'C': np.float64(10.0)}\n",
            "SVM F1 Score: 0.8076923076923077\n"
          ]
        }
      ]
    }
  ]
}